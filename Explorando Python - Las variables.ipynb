{
 "cells": [
  {
   "cell_type": "markdown",
   "metadata": {
    "slideshow": {
     "slide_type": "slide"
    }
   },
   "source": [
    "#   Qué es una varialbe Python?\n",
    "\n",
    "### Naomi Ceder\n",
    "#### 2020-06-22\n",
    "\n",
    "**https://naomiceder.tech, @naomiceder**\n"
   ]
  },
  {
   "cell_type": "markdown",
   "metadata": {
    "slideshow": {
     "slide_type": "slide"
    }
   },
   "source": [
    "## Antes de comenzar \n",
    "\n",
    "Este notebook - https://github.com/nceder/explorando_python\n",
    "\n",
    "*The Quick Python Book*, 3rd ed - http://bit.ly/quick-python\n"
   ]
  },
  {
   "cell_type": "markdown",
   "metadata": {
    "slideshow": {
     "slide_type": "slide"
    }
   },
   "source": [
    "### Modelos mentales\n",
    "\n",
    "Vamos a hablar mucho sobre modelos mentales, y antes de empezar, dejame explicar lo que quiero decir con esa frase. \n",
    " [Según Wikipedia](https://en.wikipedia.org/wiki/Mental_model)\n",
    "\n",
    "“Un modelo mental es **una explicación** del processo de pensamiento sobre **cómo algo funciona en el mundo real**. Es una representación del entorno, las relaciones entre sus diversas partes y la percepción de una persona de sus acciones y las consecuencias de las mismas. Los modelos mentales pueden ayudar formar el comportamiento y **establecer un enfoque para resolver problemas** y realizar tareas (similar a un algorithmo personal).”\n",
    "\n",
    "\n",
    "“A mental model is **an explanation of** someone's thought process about **how something works in the real world.** It is\n",
    "a representation of the surrounding world, the relationships between its various parts and a person's intuitive perception about his or her own acts and their consequences. Mental models can **help shape behaviour and set an approach to solving problems** (similar to a personal algorithm) and doing tasks.”"
   ]
  },
  {
   "cell_type": "markdown",
   "metadata": {
    "slideshow": {
     "slide_type": "slide"
    }
   },
   "source": [
    "### Un modelo mental para las variables en Python \n",
    "\n",
    "En estas diapos vamos a considerar dos modelos mentales sobre cómo las variables en Python funcionan y después los probaremos un poco a ver si funcionen bien o no. Al fin, podremos formar (o confirmar) un modelo mental para las variables en Python que nos ayudarán a usarlos con certeza en la manera cierta. \n"
   ]
  },
  {
   "cell_type": "markdown",
   "metadata": {
    "slideshow": {
     "slide_type": "slide"
    }
   },
   "source": [
    "## Qué es un variable en Python?\n",
    "\n",
    "Cuándo hablamos de variables en Python, queremos decir algo como esto:"
   ]
  },
  {
   "cell_type": "code",
   "execution_count": null,
   "metadata": {
    "slideshow": {
     "slide_type": "fragment"
    }
   },
   "outputs": [],
   "source": [
    "x = 4\n",
    "y = 5\n",
    "z = x + y\n",
    "print(z)"
   ]
  },
  {
   "cell_type": "markdown",
   "metadata": {
    "slideshow": {
     "slide_type": "fragment"
    }
   },
   "source": [
    "En este ejemplo tenemos tres variables: : `x`, `y`, y `z`. Damos los valores iniciales a `x` y `y` y guardamos el resultado de sumar los dos valores en `z`."
   ]
  },
  {
   "cell_type": "markdown",
   "metadata": {
    "slideshow": {
     "slide_type": "slide"
    }
   },
   "source": [
    "Las variables son esenciales porque podemos usarlos a guardar y acesar valores diferentes cuando nuestro código se ejecuten.\n",
    "\n",
    "¿Pero cómo funcionan las variables? ¿Son las variables contenadores de datos? ¿Punteros a una dirección en la memoria? ¿O algo diferente?"
   ]
  },
  {
   "cell_type": "markdown",
   "metadata": {
    "slideshow": {
     "slide_type": "slide"
    }
   },
   "source": [
    "### Es un contenedor?\n",
    "\n",
    "Peronsas con experiencia en otros lenguages hablan mucho que las variables contienen o almacenan los datos. Tiene sentido, ¿verdad? Si asociamos un número o cualquier otro objeto con una variable, ¿estos datos tiene que estar en algún lugar, sí?\n",
    "\n",
    "\n",
    "![](cat_buckets.jpg)"
   ]
  },
  {
   "cell_type": "markdown",
   "metadata": {
    "slideshow": {
     "slide_type": "slide"
    }
   },
   "source": [
    "### Explorando el modelo de contenedor\n",
    "\n",
    "Si el modelo de contenedor es cierto, significaría que en nuestro ejemplo:\n",
    "\n",
    "\n",
    "    x = 4\n",
    "    y = 5\n",
    "    z = x + y\n",
    "    print(z)\n",
    "    9\n",
    "\n",
    "las variables `x`, `y`, y `z` estarían  lugares en la memoria en que los valores 4, 5, and nuestra resultado 9 se almacenan, y las variables mismas son algo como direcciones or conecciones a esos lugares. \n",
    "\n",
    "Vamos a hacer algunos experimentos con Python para ver si podemos confirmar que las variables en Python son contenedores.\n"
   ]
  },
  {
   "cell_type": "markdown",
   "metadata": {
    "slideshow": {
     "slide_type": "slide"
    }
   },
   "source": [
    "#### Experimento 1 - crear y cambiar\n",
    "\n",
    "Empezemos creando algunas variables y cambiándolas."
   ]
  },
  {
   "cell_type": "code",
   "execution_count": null,
   "metadata": {
    "slideshow": {
     "slide_type": "fragment"
    }
   },
   "outputs": [],
   "source": [
    "x = 1\n",
    "y = 2\n",
    "z = x"
   ]
  },
  {
   "cell_type": "markdown",
   "metadata": {
    "slideshow": {
     "slide_type": "fragment"
    }
   },
   "source": [
    "Si ejecutamos el código encima, ¿cómo describirías el resultado con el modelo de contenedor? \n",
    "\n"
   ]
  },
  {
   "cell_type": "markdown",
   "metadata": {
    "slideshow": {
     "slide_type": "slide"
    }
   },
   "source": [
    "El modelo de contendador implicaría que el valor de cada variable no tiene ninguna conección a las otras variables - si damos tazas de leche identicas a dos niños, no es la **misma** leche en ambas tazas, y si un niño bebe su leche, la taza del otro no estaría vacía. \n"
   ]
  },
  {
   "cell_type": "markdown",
   "metadata": {
    "slideshow": {
     "slide_type": "slide"
    }
   },
   "source": [
    "Pero, ¿cómo podríamos probar esta suposición?"
   ]
  },
  {
   "cell_type": "code",
   "execution_count": null,
   "metadata": {
    "slideshow": {
     "slide_type": "slide"
    },
    "tags": [
     "hide_output"
    ]
   },
   "outputs": [],
   "source": [
    "x = 1\n",
    "y = 2\n",
    "z = x\n",
    "print(f\"x = {x}, y = {y}, z = {z}\")"
   ]
  },
  {
   "cell_type": "code",
   "execution_count": null,
   "metadata": {
    "slideshow": {
     "slide_type": "slide"
    }
   },
   "outputs": [],
   "source": [
    "x = 4\n",
    "print(f\"x = {x}, y = {y}, z = {z}\")"
   ]
  },
  {
   "cell_type": "markdown",
   "metadata": {
    "slideshow": {
     "slide_type": "fragment"
    }
   },
   "source": [
    "Bueno, en esta prueba, después de decir que `z` debería tener el mismo contenido que `x`, hamos cambiado `x` y `z` no se cambió. Esto apoyaría el modelo de contenedor.\n"
   ]
  },
  {
   "cell_type": "markdown",
   "metadata": {
    "slideshow": {
     "slide_type": "slide"
    }
   },
   "source": [
    "Ahora, intentemos la misma prueba, pero con un tipo de variable diferente. Enteros son buenos, pero para tener confianza, en verdad deberíamos usar un tipo diferente. Entonces, intentemos con algunos tipos diferentes. \n"
   ]
  },
  {
   "cell_type": "code",
   "execution_count": null,
   "metadata": {
    "slideshow": {
     "slide_type": "slide"
    }
   },
   "outputs": [],
   "source": [
    "x = \"hello\"\n",
    "y = \"goodbye\"\n",
    "z = x\n",
    "print(f\"x = {x}, y = {y}, z = {z}\")"
   ]
  },
  {
   "cell_type": "code",
   "execution_count": null,
   "metadata": {
    "slideshow": {
     "slide_type": "fragment"
    }
   },
   "outputs": [],
   "source": [
    "x = \"hola\"\n",
    "print(f\"x = {x}, y = {y}, z = {z}\")"
   ]
  },
  {
   "cell_type": "markdown",
   "metadata": {
    "slideshow": {
     "slide_type": "fragment"
    }
   },
   "source": [
    "Otra vez, probar el experimento con cadenas nos da un resultado similar y el modelo de contenedor se ve bien.\n",
    "\n",
    "Pero... ¿qué hay de listas?"
   ]
  },
  {
   "cell_type": "code",
   "execution_count": null,
   "metadata": {
    "slideshow": {
     "slide_type": "slide"
    }
   },
   "outputs": [],
   "source": [
    "x = [1, 2, 3]\n",
    "y = [4, 5, 6]\n",
    "z = x\n",
    "print(f\"x = {x}, y = {y}, z = {z}\")"
   ]
  },
  {
   "cell_type": "code",
   "execution_count": null,
   "metadata": {
    "slideshow": {
     "slide_type": "fragment"
    }
   },
   "outputs": [],
   "source": [
    "x[0] = 9\n",
    "print(f\"x = {x}, y = {y}, z = {z}\")"
   ]
  },
  {
   "cell_type": "code",
   "execution_count": null,
   "metadata": {
    "slideshow": {
     "slide_type": "fragment"
    }
   },
   "outputs": [],
   "source": [
    "z[2] = 10\n",
    "print(f\"x = {x}, y = {y}, z = {z}\")"
   ]
  },
  {
   "cell_type": "markdown",
   "metadata": {
    "slideshow": {
     "slide_type": "slide"
    }
   },
   "source": [
    "Ay, ¡que pena! Cuando cambiamos un elemento de `x`, `z` se cambia también, y vice versa.\n",
    "\n",
    "¿Qué crees que está pasando?"
   ]
  },
  {
   "cell_type": "markdown",
   "metadata": {
    "slideshow": {
     "slide_type": "slide"
    }
   },
   "source": [
    "Hay otra cosa para considerar. Si las variables son contenedores o lugares dedicados en la memoria para almacenar los valores, qué sucede cuando usamos la misma variable para referirse a tipos de datos diferentes?\n",
    "\n",
    "Los tipos diferentes de datos tienen requisitos diferentes de almacenamiento - una cadena que contiene todo el texto de *Moby Dick*, por ejemplo, requeriría mucho más espacio de memoria que el float 1.1. Sin embargo, Python nos permite hacer esto:\n",
    "\n"
   ]
  },
  {
   "cell_type": "code",
   "execution_count": null,
   "metadata": {
    "slideshow": {
     "slide_type": "slide"
    }
   },
   "outputs": [],
   "source": [
    "a = 1.1\n",
    "print(f\"Type of a - {type(a)} : value of a - {a}\\n\")\n",
    "\n",
    "a = \"\"\"Call me Ishmael. Some years ago--never mind \n",
    "...(21203 lines)...\n",
    "only found another orphan.\"\"\"\n",
    "print(f\"Type of a - {type(a)} : value of a - {a}\")"
   ]
  },
  {
   "cell_type": "markdown",
   "metadata": {
    "slideshow": {
     "slide_type": "slide"
    }
   },
   "source": [
    "Si la variable `a` es un contenedor, ¿cómo podría pasar de contener un float, que es algunas bytes, pero no enorme, a ser suficientemente grande como para contener todo el texto de Moby Dick?\n",
    "\n",
    "Otros lenguages que usan variables como contenedores por lo general no permiten esto - una vez que se crea un float, por ejemplo en java, esta variable siempre será float, y si tratas cambiarlo se lanza una excepción.\n"
   ]
  },
  {
   "cell_type": "markdown",
   "metadata": {
    "slideshow": {
     "slide_type": "slide"
    }
   },
   "source": [
    "#### la función `id()` - una herramienta nueva\n",
    "\n",
    "Para investigar más sería útil si tuvieramos una manera de ver si dos variables en realidad \"contienen\" el mismo objeto. La función `id()` puede ayudarnos, como revuelve el número única de identificación que tiene cada objeto en Python. Por ejemplo:\n",
    "\n"
   ]
  },
  {
   "cell_type": "code",
   "execution_count": null,
   "metadata": {
    "slideshow": {
     "slide_type": "fragment"
    }
   },
   "outputs": [],
   "source": [
    "id(x)"
   ]
  },
  {
   "cell_type": "markdown",
   "metadata": {
    "slideshow": {
     "slide_type": "slide"
    }
   },
   "source": [
    "Estes números de identificación se pueden cambiar entre sesiones, pero en cualquier momento es seguro que cada objeto tiene un número único de identificación. Si usamos `id()` con dos variables “diferentes” y ambas tienen el mismo número de identificación, sin duda ambas variables se refieren al mismo objeto. "
   ]
  },
  {
   "cell_type": "code",
   "execution_count": null,
   "metadata": {
    "slideshow": {
     "slide_type": "fragment"
    }
   },
   "outputs": [],
   "source": [
    "print(f\"id(x) = {id(x)}, id(y) = {id(y)}, id(z) = {id(z)}\")"
   ]
  },
  {
   "cell_type": "markdown",
   "metadata": {
    "slideshow": {
     "slide_type": "slide"
    }
   },
   "source": [
    "Aquí se puede ver que  `x` y `z` tienen el mismo ID, luego deben referirese al mismo objeto. Entonces tenemos dos preguntas: \n",
    "\n",
    "1. ¿Cómo puede estar el mismo objeto en dos variables al mismo tiempo?\n",
    "2. ¿Por qué parece funcionar con enteros y cadenas, pero no con listas? Hay otros tipos que se comportan como listas? Cómo predecimos cuál es cual?\n"
   ]
  },
  {
   "cell_type": "markdown",
   "metadata": {
    "slideshow": {
     "slide_type": "slide"
    }
   },
   "source": [
    "Vamos a responder a la segunda pregunta pronto, pero ahora piensemos en la primera. El modelo mental de variables como contenedores o lugares dedicados parece tener problemas. ¿Hay algún otro modelo que pueda tratar mejor con el comportamiento que hemos observado?\n"
   ]
  },
  {
   "cell_type": "markdown",
   "metadata": {
    "slideshow": {
     "slide_type": "slide"
    }
   },
   "source": [
    "### Otro modelo - son las variables etiquetas?\n",
    "\n",
    "Otro modelo para las variables en Python es pensarlos como etiquetas o nombres que pueden aplicarse a objetos diferentes. (Ahorita no vamos a preguntar de dónde provienen esos objetos.) \n",
    "\n",
    "![](name_tag_names.png)\n",
    "\n",
    "Todas estas etiquetas podría aplicarse a mí - mi nombre, soy profesora, y también soy estudiante de español y portugués, y quando asisto a una charla soy observador. "
   ]
  },
  {
   "cell_type": "markdown",
   "metadata": {
    "slideshow": {
     "slide_type": "slide"
    }
   },
   "source": [
    "Con este modelo la etiqueta o nombre de la variable se puede aplicar a cualquier objeto queramos, y más de una etiqueta se puede aplicar al mismo objeto.\n",
    "\n",
    "Entonces podríamos decir:\n",
    "```\n",
    "Naomi = (este ser humano)\n",
    "teacher = Naomi \n",
    "Naomi anda\n",
    "La profesora anda? Sí\n",
    "```\n",
    "\n",
    "con nuestro ejemplo:"
   ]
  },
  {
   "cell_type": "code",
   "execution_count": null,
   "metadata": {
    "slideshow": {
     "slide_type": "slide"
    }
   },
   "outputs": [],
   "source": [
    "x = 1\n",
    "y = 2\n",
    "z = x"
   ]
  },
  {
   "cell_type": "markdown",
   "metadata": {
    "slideshow": {
     "slide_type": "fragment"
    }
   },
   "source": [
    "Estamos aplicando la etiqueta `x` al entero 1, `y` al entero 2, and `z` al mismo objeto a que `x` se aplica. "
   ]
  },
  {
   "cell_type": "code",
   "execution_count": null,
   "metadata": {
    "slideshow": {
     "slide_type": "fragment"
    }
   },
   "outputs": [],
   "source": [
    "print(f\"x = {x}, y = {y}, z = {z}\")"
   ]
  },
  {
   "cell_type": "markdown",
   "metadata": {
    "slideshow": {
     "slide_type": "slide"
    }
   },
   "source": [
    "Ahora cambiemos una variable, exactamente como lo hicimos antes:"
   ]
  },
  {
   "cell_type": "code",
   "execution_count": null,
   "metadata": {
    "slideshow": {
     "slide_type": "fragment"
    }
   },
   "outputs": [],
   "source": [
    "x = 4"
   ]
  },
  {
   "cell_type": "markdown",
   "metadata": {
    "slideshow": {
     "slide_type": "fragment"
    }
   },
   "source": [
    "Ahora `x` está apuntando al entero 4. Si imprimimos los valores ahora, ¿qué veremos?"
   ]
  },
  {
   "cell_type": "code",
   "execution_count": null,
   "metadata": {
    "slideshow": {
     "slide_type": "fragment"
    }
   },
   "outputs": [],
   "source": [
    "print(f\"x = {x}, y = {y}, z = {z}\")"
   ]
  },
  {
   "cell_type": "markdown",
   "metadata": {
    "slideshow": {
     "slide_type": "slide"
    }
   },
   "source": [
    " `x`  se aplica al entero 4, pero `z` aún se aplica al entero 1, que es cierto, como no hemos cambiado  a que se refiere. Podemos confirmarlo por usar la función `id()`.\n",
    " \n"
   ]
  },
  {
   "cell_type": "code",
   "execution_count": null,
   "metadata": {
    "slideshow": {
     "slide_type": "slide"
    }
   },
   "outputs": [],
   "source": [
    "x = 1\n",
    "y = 2\n",
    "z = x\n",
    "print(f\"x = {x}, y = {y}, z = {z}\")\n",
    "print(f\"id(x) = {id(x)}, id(y) = {id(y)}, id(z) = {id(z)}\\n\")\n",
    "x = 4\n",
    "print(f\"x = {x}, y = {y}, z = {z}\")\n",
    "print(f\"id(x) = {id(x)}, id(y) = {id(y)}, id(z) = {id(z)}\")"
   ]
  },
  {
   "cell_type": "markdown",
   "metadata": {
    "slideshow": {
     "slide_type": "slide"
    }
   },
   "source": [
    "Esto confirma que cuando fijamos `z` igual a `x` solo hicimos que la etiqueta `z` se apunta al mismo objecto entero como `x`; cuando hemos cambiado `x`, aplicamos su etiqueta al objeto diferente, pero `z` permaneció asociado con el objeto orginal. \n",
    "\n",
    "\n",
    "Pero qué hay del ejemplo de lista?"
   ]
  },
  {
   "cell_type": "code",
   "execution_count": null,
   "metadata": {
    "slideshow": {
     "slide_type": "fragment"
    }
   },
   "outputs": [],
   "source": [
    "x = [1, 2, 3]\n",
    "y = [4, 5, 6]\n",
    "z = x\n",
    "print(f\"x = {x}, y = {y}, z = {z}\")\n",
    "x[0] = 9\n",
    "print(f\"x = {x}, y = {y}, z = {z}\")"
   ]
  },
  {
   "cell_type": "markdown",
   "metadata": {
    "slideshow": {
     "slide_type": "slide"
    }
   },
   "source": [
    "Hay que recordar que a diferencia al ejemplo de enteros, no hacemos que `x` apunta a una lista nueva. En lugar, simplemente estamos modificando en su lugar un elemento de la lista a la que `x` se aplica.\n",
    "\n",
    "Cuando usamos la función `id()` para inspeccionar las listas `x`, `y` y `z`, que crees que vamos a encontrar?\n"
   ]
  },
  {
   "cell_type": "code",
   "execution_count": null,
   "metadata": {
    "slideshow": {
     "slide_type": "slide"
    }
   },
   "outputs": [],
   "source": [
    "x = [1, 2, 3]\n",
    "y = [4, 5, 6]\n",
    "z = x\n",
    "print(f\"x = {x}, y = {y}, z = {z}\")\n",
    "print(f\"id(x) = {id(x)}, id(y) = {id(y)}, id(z) = {id(z)}\\n\")\n",
    "x[0] = 9\n",
    "print(f\"x = {x}, y = {y}, z = {z}\")\n",
    "print(f\"id(x) = {id(x)}, id(y) = {id(y)}, id(z) = {id(z)}\")"
   ]
  },
  {
   "cell_type": "markdown",
   "metadata": {
    "slideshow": {
     "slide_type": "slide"
    }
   },
   "source": [
    "Tal como encontramos con el ejemplo de enteros, tanto `x` com `z` aún se aplican al mismo objeto lista, y tiene sentido que si cambiamos un elemento de `x` este cambio aparezca en `z` tambien. Por otro lado, se aplicamos `x` a una lista nueva, los resultados serían diferentes.\n",
    "\n"
   ]
  },
  {
   "cell_type": "code",
   "execution_count": null,
   "metadata": {
    "scrolled": true,
    "slideshow": {
     "slide_type": "slide"
    }
   },
   "outputs": [],
   "source": [
    "x = [1, 2, 3]\n",
    "y = [4, 5, 6]\n",
    "z = x\n",
    "print(f\"x = {x}, y = {y}, z = {z}\")\n",
    "print(f\"id(x) = {id(x)}, id(y) = {id(y)}, id(z) = {id(z)}\\n\")\n",
    "x = [7, 8, 9]\n",
    "print(f\"x = {x}, y = {y}, z = {z}\")\n",
    "print(f\"id(x) = {id(x)}, id(y) = {id(y)}, id(z) = {id(z)}\")"
   ]
  },
  {
   "cell_type": "markdown",
   "metadata": {
    "slideshow": {
     "slide_type": "fragment"
    }
   },
   "source": [
    "En este case, como muestra la función `id()`, `x` se apunta a un objeto nuevo, mientras `z` permanece apuntando al objeto original y no se modifica.\n"
   ]
  },
  {
   "cell_type": "markdown",
   "metadata": {
    "slideshow": {
     "slide_type": "slide"
    }
   },
   "source": [
    "### Objetos mutables vs inmutables\n",
    "\n",
    "Vale la pena señalar que la causa porque podemos modificar un elemento de una lista (o de un diccionario o de un conjunto) es que son objetos *mutables*, es decir, objetos que se pueden cambiar.\n",
    "\n",
    "Por otro lado, hay muchos objetos en Python que son inmutables y no se pueden modificar. Tiene sentido que constantes como enteros y floats serían inmutables, como no tiene sentido decir que el valor de 1 ahora es 2; el valor de 1 siempre debe ser 1. Otros objetos son inmutables por el deseño de Python, y cadenas, tuples, y frozensets son todos inmutables por algunas causes, mientras las listas, diccionarios, conjuntos y (en general) las clases creadas por el usuario son mutables.\n"
   ]
  },
  {
   "cell_type": "markdown",
   "metadata": {
    "slideshow": {
     "slide_type": "slide"
    }
   },
   "source": [
    "### Qué hemos aprendido?\n",
    "\n",
    "**Es mejor considerar las variables en Python nombres o etiquetas.** Exactamente como puedes dar muchos nombres a un objeto, en Python más de una variable puede apuntar al mismo objeto.\n",
    "\n",
    "Si el objeto se puede cambiar, es decir, si es *mutable*, entonces si se modifica, el efecto va a aparecer en todas las partes, con cualquiera variable que se refiera a ese objeto. En contraste, objetos inmutables no pueden cambiarse por sí mismos, y la única forma de aplicar un valor diferente es crear un objeto nuevo. Luego cambiar una variable apuntada a un objeto inmutable no va a cambiar otras variables que apuntan al objeto original.\n"
   ]
  },
  {
   "cell_type": "markdown",
   "metadata": {
    "slideshow": {
     "slide_type": "slide"
    }
   },
   "source": [
    "## Gracias\n",
    "\n",
    "Este cuaderno - https://github.com/nceder/exploring_python\n",
    "\n",
    "https://naomiceder.tech, @naomiceder\n"
   ]
  },
  {
   "cell_type": "markdown",
   "metadata": {
    "slideshow": {
     "slide_type": "slide"
    }
   },
   "source": [
    "### Que hay de listas anidadas?\n",
    "\n",
    "Tipos como listas se pueden estar anidadas y en ese caso funcionan en la misma manera, pero in capas. Es decir, los elementos de una lista son solamente variables o etiquetas implicitas que se pueden aplicar a objetos diferentes incluso otras listas. Y a su vez los elementos de esas listas son variables o etiquetas... etc.\n",
    "\n",
    "Lo mismo es cierto para los diccionarios, excepto que usamos las claves del diccionario para acesar los valores, no los indices de la lista. \n",
    "\n"
   ]
  },
  {
   "cell_type": "code",
   "execution_count": null,
   "metadata": {
    "slideshow": {
     "slide_type": "slide"
    }
   },
   "outputs": [],
   "source": [
    "x = [[1,4], [5, 6]]\n",
    "z = x\n",
    "z[0][0] = 9\n",
    "print(f\"x = {x}, z = {z}\\n\")\n",
    "print(f\"id(x[[0]) = {id(x[0])}, id(z[0]) = {id(z[0])}\")"
   ]
  },
  {
   "cell_type": "markdown",
   "metadata": {
    "slideshow": {
     "slide_type": "slide"
    }
   },
   "source": [
    "### Otros ejemplos\n",
    "\n",
    "Piense en los ejemplos abajo y decida que se imprimirá en cada caso:\n"
   ]
  },
  {
   "cell_type": "code",
   "execution_count": null,
   "metadata": {
    "slideshow": {
     "slide_type": "slide"
    }
   },
   "outputs": [],
   "source": [
    "x = (1, 2, 3)\n",
    "z = x\n",
    "x = (7, 8, 9)\n",
    "\n",
    "print(x)\n",
    "print(z)"
   ]
  },
  {
   "cell_type": "code",
   "execution_count": null,
   "metadata": {
    "slideshow": {
     "slide_type": "slide"
    }
   },
   "outputs": [],
   "source": [
    "x = {\"one\":1}\n",
    "z = x\n",
    "\n",
    "z[\"two\"] = 2\n",
    "print(x)"
   ]
  },
  {
   "cell_type": "code",
   "execution_count": null,
   "metadata": {
    "slideshow": {
     "slide_type": "slide"
    }
   },
   "outputs": [],
   "source": [
    "x = \"one\"\n",
    "z = x\n",
    "\n",
    "z = \"two\"\n",
    "print(x)\n",
    "print(z)"
   ]
  },
  {
   "cell_type": "code",
   "execution_count": null,
   "metadata": {
    "slideshow": {
     "slide_type": "slide"
    }
   },
   "outputs": [],
   "source": [
    "x = [[1,4], [5, 6]]\n",
    "z = x\n",
    "\n",
    "z[0][1:1] = [2,3]\n",
    "print(x)"
   ]
  },
  {
   "cell_type": "code",
   "execution_count": null,
   "metadata": {
    "slideshow": {
     "slide_type": "slide"
    }
   },
   "outputs": [],
   "source": []
  },
  {
   "cell_type": "markdown",
   "metadata": {
    "slideshow": {
     "slide_type": "slide"
    }
   },
   "source": [
    "### Bonus - Why default parameters are so weird\n",
    "\n",
    "1. Functions are objects that are created when the code defining them is executed (loaded).\n",
    "2. Any default parameters are created at the same time."
   ]
  },
  {
   "cell_type": "code",
   "execution_count": null,
   "metadata": {
    "slideshow": {
     "slide_type": "slide"
    }
   },
   "outputs": [],
   "source": [
    "def foo(x=None):\n",
    "    if x is None:\n",
    "        x = []\n",
    "    print(x)\n",
    "    print(id(x))\n",
    "    x.append(\"hi\")\n",
    "    \n",
    "foo()\n",
    "foo()\n",
    "foo()\n"
   ]
  },
  {
   "cell_type": "code",
   "execution_count": null,
   "metadata": {},
   "outputs": [],
   "source": []
  }
 ],
 "metadata": {
  "celltoolbar": "Slideshow",
  "kernelspec": {
   "display_name": "Python 3",
   "language": "python",
   "name": "python3"
  },
  "language_info": {
   "codemirror_mode": {
    "name": "ipython",
    "version": 3
   },
   "file_extension": ".py",
   "mimetype": "text/x-python",
   "name": "python",
   "nbconvert_exporter": "python",
   "pygments_lexer": "ipython3",
   "version": "3.6.4"
  },
  "livereveal": {
   "scroll": true,
   "start_slideshow_at": "selected",
   "theme": "white",
   "transition": "none"
  }
 },
 "nbformat": 4,
 "nbformat_minor": 2
}
